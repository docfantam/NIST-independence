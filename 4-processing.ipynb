{
 "cells": [
  {
   "cell_type": "code",
   "execution_count": 1,
   "metadata": {},
   "outputs": [],
   "source": [
    "import os\n",
    "\n",
    "import numpy as np\n",
    "\n",
    "from scipy.special import gammainc\n",
    "from scipy.special import gamma"
   ]
  },
  {
   "cell_type": "markdown",
   "metadata": {},
   "source": [
    "CumulativeSums and Serial Tests calculate 2 p-values for each sequence (forward and backward modes).\n",
    "Therefore we take their pvalue as the average of the pvalues in the 2 modes."
   ]
  },
  {
   "cell_type": "code",
   "execution_count": 2,
   "metadata": {},
   "outputs": [],
   "source": [
    "rootdir = './logs/'\n",
    "subdirs = [ f.path + '/' for f in os.scandir(rootdir) if f.is_dir() ]"
   ]
  },
  {
   "cell_type": "code",
   "execution_count": 3,
   "metadata": {},
   "outputs": [],
   "source": [
    "# for subdir in subdirs:\n",
    "#     for file in ['2.txt', '8.txt']:\n",
    "#         # https://stackoverflow.com/a/15956341/13226807\n",
    "#         pval = np.genfromtxt(subdir + file)\n",
    "#         pval = np.mean(pval.reshape(-1, 2), axis=1)\n",
    "#         np.savetxt(subdir + file, pval, delimiter='\\n')"
   ]
  },
  {
   "cell_type": "code",
   "execution_count": 4,
   "metadata": {},
   "outputs": [],
   "source": [
    "def CT_SingleUtil(pval, x, y):\n",
    "    # STEP 1\n",
    "    K = 10 # no. of sub-intervals\n",
    "    S = np.zeros(K) # no. of sequences \n",
    "\n",
    "    for i in range(pval.shape[0]):\n",
    "        px = pval[i][x]\n",
    "        py = pval[i][y]\n",
    "        dp = px - py\n",
    "        for j in range(K):\n",
    "            if -1 <= dp and dp <= (-1 + 2/K):\n",
    "                S[0]+=1\n",
    "            elif (-1 + 2*j/K) < dp and dp <= (-1 + 2*(j+1)/K):\n",
    "                S[j]+=1\n",
    "   \n",
    "    # STEP 2\n",
    "    P = np.array([0.02, 0.06, 0.1, 0.14, 0.18, 0.18, 0.14, 0.1, 0.06, 0.02])\n",
    "    V = 0\n",
    "    for i in range(K):\n",
    "        V += ((S[i] - pval.shape[0]*P[i])**2) / (pval.shape[0]*P[i])\n",
    "    \n",
    "    # STEP 3\n",
    "    # https://stackoverflow.com/a/38715054\n",
    "    a = (K-1)/2\n",
    "    x = V/2\n",
    "    PT = gamma(a)*(1-gammainc(a,x))\n",
    "    \n",
    "    # STEP 4\n",
    "    if(PT > 0.001):\n",
    "        return 1\n",
    "    else:\n",
    "        return 0"
   ]
  },
  {
   "cell_type": "markdown",
   "metadata": {},
   "source": [
    "CT_Single"
   ]
  },
  {
   "cell_type": "code",
   "execution_count": 5,
   "metadata": {},
   "outputs": [],
   "source": [
    "def CT_Single(subdir):\n",
    "    pval = np.transpose(np.array([np.genfromtxt(subdir + file) for file in os.listdir(subdir)]))\n",
    "\n",
    "    single_result = np.zeros((pval.shape[1], pval.shape[1]))\n",
    "    for x in range(pval.shape[1]):\n",
    "        for y in range(pval.shape[1]):\n",
    "            single_result[x][y] = CT_SingleUtil(pval, x, y)   \n",
    "    return single_result"
   ]
  },
  {
   "cell_type": "markdown",
   "metadata": {},
   "source": [
    "CT_Total"
   ]
  },
  {
   "cell_type": "code",
   "execution_count": 6,
   "metadata": {},
   "outputs": [],
   "source": [
    "def CT_Total(subdirs):\n",
    "    total_result = np.zeros((11, 11))\n",
    "    for subdir in subdirs:\n",
    "        single_result = CT_Single(subdir)\n",
    "        total_result = np.add(total_result, single_result)\n",
    "    return total_result"
   ]
  },
  {
   "cell_type": "markdown",
   "metadata": {},
   "source": [
    "Main"
   ]
  },
  {
   "cell_type": "code",
   "execution_count": 7,
   "metadata": {},
   "outputs": [],
   "source": [
    "total_result = CT_Total(subdirs)"
   ]
  },
  {
   "cell_type": "code",
   "execution_count": 8,
   "metadata": {},
   "outputs": [],
   "source": [
    "np.savetxt(\"corr.csv\", total_result, delimiter=\",\")"
   ]
  },
  {
   "cell_type": "code",
   "execution_count": 9,
   "metadata": {},
   "outputs": [],
   "source": [
    "import pandas as pd\n",
    "import seaborn as sns"
   ]
  },
  {
   "cell_type": "code",
   "execution_count": 10,
   "metadata": {},
   "outputs": [
    {
     "data": {
      "text/html": [
       "<div>\n",
       "<style scoped>\n",
       "    .dataframe tbody tr th:only-of-type {\n",
       "        vertical-align: middle;\n",
       "    }\n",
       "\n",
       "    .dataframe tbody tr th {\n",
       "        vertical-align: top;\n",
       "    }\n",
       "\n",
       "    .dataframe thead th {\n",
       "        text-align: right;\n",
       "    }\n",
       "</style>\n",
       "<table border=\"1\" class=\"dataframe\">\n",
       "  <thead>\n",
       "    <tr style=\"text-align: right;\">\n",
       "      <th></th>\n",
       "      <th>Frequency</th>\n",
       "      <th>BlockFrequency</th>\n",
       "      <th>CumulativeSums</th>\n",
       "      <th>Runs</th>\n",
       "      <th>LongestRun</th>\n",
       "      <th>Rank</th>\n",
       "      <th>Universal</th>\n",
       "      <th>ApproximateEntropy</th>\n",
       "      <th>Serial</th>\n",
       "      <th>LinearComplexity</th>\n",
       "      <th>FFT</th>\n",
       "    </tr>\n",
       "  </thead>\n",
       "  <tbody>\n",
       "    <tr>\n",
       "      <th>Frequency</th>\n",
       "      <td>0.0</td>\n",
       "      <td>0.0</td>\n",
       "      <td>2.0</td>\n",
       "      <td>1.0</td>\n",
       "      <td>1.0</td>\n",
       "      <td>0.0</td>\n",
       "      <td>1.0</td>\n",
       "      <td>4.0</td>\n",
       "      <td>8.0</td>\n",
       "      <td>7.0</td>\n",
       "      <td>2.0</td>\n",
       "    </tr>\n",
       "    <tr>\n",
       "      <th>BlockFrequency</th>\n",
       "      <td>0.0</td>\n",
       "      <td>0.0</td>\n",
       "      <td>0.0</td>\n",
       "      <td>0.0</td>\n",
       "      <td>0.0</td>\n",
       "      <td>0.0</td>\n",
       "      <td>0.0</td>\n",
       "      <td>0.0</td>\n",
       "      <td>0.0</td>\n",
       "      <td>0.0</td>\n",
       "      <td>0.0</td>\n",
       "    </tr>\n",
       "    <tr>\n",
       "      <th>CumulativeSums</th>\n",
       "      <td>3.0</td>\n",
       "      <td>0.0</td>\n",
       "      <td>0.0</td>\n",
       "      <td>1.0</td>\n",
       "      <td>0.0</td>\n",
       "      <td>2.0</td>\n",
       "      <td>0.0</td>\n",
       "      <td>0.0</td>\n",
       "      <td>6.0</td>\n",
       "      <td>5.0</td>\n",
       "      <td>0.0</td>\n",
       "    </tr>\n",
       "    <tr>\n",
       "      <th>Runs</th>\n",
       "      <td>1.0</td>\n",
       "      <td>0.0</td>\n",
       "      <td>6.0</td>\n",
       "      <td>0.0</td>\n",
       "      <td>4.0</td>\n",
       "      <td>3.0</td>\n",
       "      <td>3.0</td>\n",
       "      <td>3.0</td>\n",
       "      <td>14.0</td>\n",
       "      <td>10.0</td>\n",
       "      <td>1.0</td>\n",
       "    </tr>\n",
       "    <tr>\n",
       "      <th>LongestRun</th>\n",
       "      <td>3.0</td>\n",
       "      <td>0.0</td>\n",
       "      <td>2.0</td>\n",
       "      <td>1.0</td>\n",
       "      <td>0.0</td>\n",
       "      <td>2.0</td>\n",
       "      <td>1.0</td>\n",
       "      <td>2.0</td>\n",
       "      <td>9.0</td>\n",
       "      <td>4.0</td>\n",
       "      <td>0.0</td>\n",
       "    </tr>\n",
       "    <tr>\n",
       "      <th>Rank</th>\n",
       "      <td>3.0</td>\n",
       "      <td>0.0</td>\n",
       "      <td>2.0</td>\n",
       "      <td>2.0</td>\n",
       "      <td>0.0</td>\n",
       "      <td>0.0</td>\n",
       "      <td>1.0</td>\n",
       "      <td>2.0</td>\n",
       "      <td>17.0</td>\n",
       "      <td>11.0</td>\n",
       "      <td>2.0</td>\n",
       "    </tr>\n",
       "    <tr>\n",
       "      <th>Universal</th>\n",
       "      <td>1.0</td>\n",
       "      <td>0.0</td>\n",
       "      <td>3.0</td>\n",
       "      <td>3.0</td>\n",
       "      <td>1.0</td>\n",
       "      <td>1.0</td>\n",
       "      <td>0.0</td>\n",
       "      <td>0.0</td>\n",
       "      <td>19.0</td>\n",
       "      <td>7.0</td>\n",
       "      <td>1.0</td>\n",
       "    </tr>\n",
       "    <tr>\n",
       "      <th>ApproximateEntropy</th>\n",
       "      <td>1.0</td>\n",
       "      <td>0.0</td>\n",
       "      <td>2.0</td>\n",
       "      <td>1.0</td>\n",
       "      <td>3.0</td>\n",
       "      <td>1.0</td>\n",
       "      <td>1.0</td>\n",
       "      <td>0.0</td>\n",
       "      <td>18.0</td>\n",
       "      <td>0.0</td>\n",
       "      <td>0.0</td>\n",
       "    </tr>\n",
       "    <tr>\n",
       "      <th>Serial</th>\n",
       "      <td>0.0</td>\n",
       "      <td>0.0</td>\n",
       "      <td>0.0</td>\n",
       "      <td>1.0</td>\n",
       "      <td>0.0</td>\n",
       "      <td>0.0</td>\n",
       "      <td>0.0</td>\n",
       "      <td>0.0</td>\n",
       "      <td>0.0</td>\n",
       "      <td>1.0</td>\n",
       "      <td>0.0</td>\n",
       "    </tr>\n",
       "    <tr>\n",
       "      <th>LinearComplexity</th>\n",
       "      <td>3.0</td>\n",
       "      <td>0.0</td>\n",
       "      <td>10.0</td>\n",
       "      <td>2.0</td>\n",
       "      <td>3.0</td>\n",
       "      <td>7.0</td>\n",
       "      <td>1.0</td>\n",
       "      <td>0.0</td>\n",
       "      <td>26.0</td>\n",
       "      <td>0.0</td>\n",
       "      <td>3.0</td>\n",
       "    </tr>\n",
       "    <tr>\n",
       "      <th>FFT</th>\n",
       "      <td>2.0</td>\n",
       "      <td>0.0</td>\n",
       "      <td>1.0</td>\n",
       "      <td>1.0</td>\n",
       "      <td>3.0</td>\n",
       "      <td>1.0</td>\n",
       "      <td>4.0</td>\n",
       "      <td>2.0</td>\n",
       "      <td>9.0</td>\n",
       "      <td>10.0</td>\n",
       "      <td>0.0</td>\n",
       "    </tr>\n",
       "  </tbody>\n",
       "</table>\n",
       "</div>"
      ],
      "text/plain": [
       "                    Frequency  BlockFrequency  CumulativeSums  Runs  \\\n",
       "Frequency                 0.0             0.0             2.0   1.0   \n",
       "BlockFrequency            0.0             0.0             0.0   0.0   \n",
       "CumulativeSums            3.0             0.0             0.0   1.0   \n",
       "Runs                      1.0             0.0             6.0   0.0   \n",
       "LongestRun                3.0             0.0             2.0   1.0   \n",
       "Rank                      3.0             0.0             2.0   2.0   \n",
       "Universal                 1.0             0.0             3.0   3.0   \n",
       "ApproximateEntropy        1.0             0.0             2.0   1.0   \n",
       "Serial                    0.0             0.0             0.0   1.0   \n",
       "LinearComplexity          3.0             0.0            10.0   2.0   \n",
       "FFT                       2.0             0.0             1.0   1.0   \n",
       "\n",
       "                    LongestRun  Rank  Universal  ApproximateEntropy  Serial  \\\n",
       "Frequency                  1.0   0.0        1.0                 4.0     8.0   \n",
       "BlockFrequency             0.0   0.0        0.0                 0.0     0.0   \n",
       "CumulativeSums             0.0   2.0        0.0                 0.0     6.0   \n",
       "Runs                       4.0   3.0        3.0                 3.0    14.0   \n",
       "LongestRun                 0.0   2.0        1.0                 2.0     9.0   \n",
       "Rank                       0.0   0.0        1.0                 2.0    17.0   \n",
       "Universal                  1.0   1.0        0.0                 0.0    19.0   \n",
       "ApproximateEntropy         3.0   1.0        1.0                 0.0    18.0   \n",
       "Serial                     0.0   0.0        0.0                 0.0     0.0   \n",
       "LinearComplexity           3.0   7.0        1.0                 0.0    26.0   \n",
       "FFT                        3.0   1.0        4.0                 2.0     9.0   \n",
       "\n",
       "                    LinearComplexity  FFT  \n",
       "Frequency                        7.0  2.0  \n",
       "BlockFrequency                   0.0  0.0  \n",
       "CumulativeSums                   5.0  0.0  \n",
       "Runs                            10.0  1.0  \n",
       "LongestRun                       4.0  0.0  \n",
       "Rank                            11.0  2.0  \n",
       "Universal                        7.0  1.0  \n",
       "ApproximateEntropy               0.0  0.0  \n",
       "Serial                           1.0  0.0  \n",
       "LinearComplexity                 0.0  3.0  \n",
       "FFT                             10.0  0.0  "
      ]
     },
     "execution_count": 10,
     "metadata": {},
     "output_type": "execute_result"
    }
   ],
   "source": [
    "test_names = ['Frequency',\n",
    "              'BlockFrequency',\n",
    "              'CumulativeSums',\n",
    "              'Runs',\n",
    "              'LongestRun',\n",
    "              'Rank',\n",
    "              'Universal',\n",
    "              'ApproximateEntropy',\n",
    "              'Serial',\n",
    "              'LinearComplexity',\n",
    "              'FFT']\n",
    "corr = pd.read_csv(\"corr.csv\", names=test_names)\n",
    "corr.index = test_names\n",
    "corr"
   ]
  },
  {
   "cell_type": "code",
   "execution_count": 11,
   "metadata": {},
   "outputs": [
    {
     "data": {
      "text/plain": [
       "<matplotlib.axes._subplots.AxesSubplot at 0x7f37967684c0>"
      ]
     },
     "execution_count": 11,
     "metadata": {},
     "output_type": "execute_result"
    },
    {
     "data": {
      "image/png": "[encoded data removed]",
      "text/plain": [
       "<Figure size 432x288 with 2 Axes>"
      ]
     },
     "metadata": {
      "needs_background": "light"
     },
     "output_type": "display_data"
    }
   ],
   "source": [
    "sns.heatmap(corr, vmin=0, vmax=100)"
   ]
  },
  {
   "cell_type": "code",
   "execution_count": null,
   "metadata": {},
   "outputs": [],
   "source": []
  }
 ],
 "metadata": {
  "kernelspec": {
   "display_name": "Python 3",
   "language": "python",
   "name": "python3"
  },
  "language_info": {
   "codemirror_mode": {
    "name": "ipython",
    "version": 3
   },
   "file_extension": ".py",
   "mimetype": "text/x-python",
   "name": "python",
   "nbconvert_exporter": "python",
   "pygments_lexer": "ipython3",
   "version": "3.8.3"
  }
 },
 "nbformat": 4,
 "nbformat_minor": 4
}
